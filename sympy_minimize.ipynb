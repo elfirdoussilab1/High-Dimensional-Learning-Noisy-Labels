{
 "cells": [
  {
   "cell_type": "markdown",
   "metadata": {},
   "source": [
    "## Finding optiaml $\\rho_+$ with $\\rho_- = 0$"
   ]
  },
  {
   "cell_type": "code",
   "execution_count": 34,
   "metadata": {},
   "outputs": [],
   "source": [
    "from sympy import *"
   ]
  },
  {
   "cell_type": "code",
   "execution_count": 35,
   "metadata": {},
   "outputs": [],
   "source": [
    "mo, pi, ep, em, rho, kappa, h = symbols('m_o pi epsilon_+ epsilon_- rho kappa h')"
   ]
  },
  {
   "cell_type": "code",
   "execution_count": 36,
   "metadata": {},
   "outputs": [],
   "source": [
    "lm = 1\n",
    "lp = (1 + rho) / (1 - rho)\n",
    "beta = 1 / (1 - rho)"
   ]
  },
  {
   "cell_type": "code",
   "execution_count": 37,
   "metadata": {},
   "outputs": [],
   "source": [
    "m = (pi * (lm - 2 * beta * em) + (1-pi) * (lp - 2 * beta * ep)) * mo"
   ]
  },
  {
   "cell_type": "code",
   "execution_count": 38,
   "metadata": {},
   "outputs": [
    {
     "data": {
      "text/latex": [
       "$\\displaystyle \\kappa \\left(\\pi \\left(- \\frac{2 \\epsilon_{-}}{1 - \\rho} + 1\\right) + \\left(1 - \\pi\\right) \\left(- \\frac{2 \\epsilon_{+}}{1 - \\rho} + \\frac{\\rho + 1}{1 - \\rho}\\right)\\right)^{2} + \\frac{\\left(1 - h\\right) \\left(\\pi \\left(\\frac{4 \\epsilon_{-} \\rho}{\\left(1 - \\rho\\right)^{2}} + 1\\right) + \\left(1 - \\pi\\right) \\left(- \\frac{4 \\epsilon_{+} \\rho}{\\left(1 - \\rho\\right)^{2}} + \\frac{\\left(\\rho + 1\\right)^{2}}{\\left(1 - \\rho\\right)^{2}}\\right)\\right)}{h}$"
      ],
      "text/plain": [
       "kappa*(pi*(-2*epsilon_-/(1 - rho) + 1) + (1 - pi)*(-2*epsilon_+/(1 - rho) + (rho + 1)/(1 - rho)))**2 + (1 - h)*(pi*(4*epsilon_-*rho/(1 - rho)**2 + 1) + (1 - pi)*(-4*epsilon_+*rho/(1 - rho)**2 + (rho + 1)**2/(1 - rho)**2))/h"
      ]
     },
     "execution_count": 38,
     "metadata": {},
     "output_type": "execute_result"
    }
   ],
   "source": [
    "nu = (pi * (lm - 2 * beta * em) + (1-pi) * (lp - 2 * beta * ep))**2 * kappa\n",
    "s = (1-h) * (pi * (4*beta**2 * em * rho + lm**2) + (1-pi) * (4*beta**2 * ep * (-rho) + lp**2 ) ) / h\n",
    "nu = nu + s\n",
    "nu"
   ]
  },
  {
   "cell_type": "code",
   "execution_count": 39,
   "metadata": {},
   "outputs": [
    {
     "data": {
      "text/latex": [
       "$\\displaystyle - \\frac{h m_{o}^{2} \\left(\\rho - 1\\right)^{2} \\left(\\pi \\left(2 \\epsilon_{-} + \\rho - 1\\right) + \\left(\\pi - 1\\right) \\left(- 2 \\epsilon_{+} + \\rho + 1\\right)\\right)^{2}}{- h \\left(\\kappa - m_{o}^{2}\\right) \\left(\\rho - 1\\right)^{2} \\left(\\pi \\left(2 \\epsilon_{-} + \\rho - 1\\right) - \\left(\\pi - 1\\right) \\left(2 \\epsilon_{+} - \\rho - 1\\right)\\right)^{2} + \\left(h - 1\\right) \\left(\\pi \\left(\\rho - 1\\right)^{2} \\cdot \\left(4 \\epsilon_{-} \\rho + \\left(\\rho - 1\\right)^{2}\\right) + \\left(\\pi - 1\\right) \\left(\\rho - 1\\right)^{2} \\cdot \\left(4 \\epsilon_{+} \\rho - \\left(\\rho + 1\\right)^{2}\\right)\\right)}$"
      ],
      "text/plain": [
       "-h*m_o**2*(rho - 1)**2*(pi*(2*epsilon_- + rho - 1) + (pi - 1)*(-2*epsilon_+ + rho + 1))**2/(-h*(kappa - m_o**2)*(rho - 1)**2*(pi*(2*epsilon_- + rho - 1) - (pi - 1)*(2*epsilon_+ - rho - 1))**2 + (h - 1)*(pi*(rho - 1)**2*(4*epsilon_-*rho + (rho - 1)**2) + (pi - 1)*(rho - 1)**2*(4*epsilon_+*rho - (rho + 1)**2)))"
      ]
     },
     "execution_count": 39,
     "metadata": {},
     "output_type": "execute_result"
    }
   ],
   "source": [
    "f =simplify(m**2 / (nu - m**2))\n",
    "f"
   ]
  },
  {
   "cell_type": "code",
   "execution_count": 41,
   "metadata": {},
   "outputs": [
    {
     "name": "stdout",
     "output_type": "stream",
     "text": [
      "- h \\left(\\kappa - m_{o}^{2}\\right) \\left(\\rho - 1\\right)^{2} \\left(\\pi \\left(2 \\epsilon_{-} + \\rho - 1\\right) - \\left(\\pi - 1\\right) \\left(2 \\epsilon_{+} - \\rho - 1\\right)\\right)^{2} + \\left(h - 1\\right) \\left(\\pi \\left(\\rho - 1\\right)^{2} \\cdot \\left(4 \\epsilon_{-} \\rho + \\left(\\rho - 1\\right)^{2}\\right) + \\left(\\pi - 1\\right) \\left(\\rho - 1\\right)^{2} \\cdot \\left(4 \\epsilon_{+} \\rho - \\left(\\rho + 1\\right)^{2}\\right)\\right)\n"
     ]
    }
   ],
   "source": [
    "num, den = fraction(f)\n",
    "print(latex(den))"
   ]
  },
  {
   "cell_type": "code",
   "execution_count": 42,
   "metadata": {},
   "outputs": [
    {
     "data": {
      "text/latex": [
       "$\\displaystyle \\frac{2 h m_{o}^{2} \\left(\\pi \\left(2 \\epsilon_{-} + \\rho - 1\\right) + \\left(\\pi - 1\\right) \\left(- 2 \\epsilon_{+} + \\rho + 1\\right)\\right) \\left(- \\left(\\pi \\left(2 \\epsilon_{-} + \\rho - 1\\right) + \\left(\\pi - 1\\right) \\left(- 2 \\epsilon_{+} + \\rho + 1\\right)\\right) \\left(h \\left(\\kappa - m_{o}^{2}\\right) \\left(2 \\pi - 1\\right) \\left(\\rho - 1\\right) \\left(\\pi \\left(2 \\epsilon_{-} + \\rho - 1\\right) + \\left(\\pi - 1\\right) \\left(- 2 \\epsilon_{+} + \\rho + 1\\right)\\right) + h \\left(\\kappa - m_{o}^{2}\\right) \\left(\\pi \\left(2 \\epsilon_{-} + \\rho - 1\\right) + \\left(\\pi - 1\\right) \\left(- 2 \\epsilon_{+} + \\rho + 1\\right)\\right)^{2} - \\left(h - 1\\right) \\left(\\pi \\left(\\rho - 1\\right) \\left(2 \\epsilon_{-} + \\rho - 1\\right) + \\pi \\left(4 \\epsilon_{-} \\rho + \\left(\\rho - 1\\right)^{2}\\right) - \\left(\\pi - 1\\right) \\left(\\rho - 1\\right) \\left(- 2 \\epsilon_{+} + \\rho + 1\\right) + \\left(\\pi - 1\\right) \\left(4 \\epsilon_{+} \\rho - \\left(\\rho + 1\\right)^{2}\\right)\\right)\\right) + \\left(h \\left(\\kappa - m_{o}^{2}\\right) \\left(\\pi \\left(2 \\epsilon_{-} + \\rho - 1\\right) + \\left(\\pi - 1\\right) \\left(- 2 \\epsilon_{+} + \\rho + 1\\right)\\right)^{2} - \\left(h - 1\\right) \\left(\\pi \\left(4 \\epsilon_{-} \\rho + \\left(\\rho - 1\\right)^{2}\\right) + \\left(\\pi - 1\\right) \\left(4 \\epsilon_{+} \\rho - \\left(\\rho + 1\\right)^{2}\\right)\\right)\\right) \\left(\\pi \\left(2 \\epsilon_{-} + \\rho - 1\\right) + \\left(\\pi - 1\\right) \\left(- 2 \\epsilon_{+} + \\rho + 1\\right) + \\left(2 \\pi - 1\\right) \\left(\\rho - 1\\right)\\right)\\right)}{\\left(\\rho - 1\\right) \\left(h \\left(\\kappa - m_{o}^{2}\\right) \\left(\\pi \\left(2 \\epsilon_{-} + \\rho - 1\\right) + \\left(\\pi - 1\\right) \\left(- 2 \\epsilon_{+} + \\rho + 1\\right)\\right)^{2} - \\left(h - 1\\right) \\left(\\pi \\left(4 \\epsilon_{-} \\rho + \\left(\\rho - 1\\right)^{2}\\right) + \\left(\\pi - 1\\right) \\left(4 \\epsilon_{+} \\rho - \\left(\\rho + 1\\right)^{2}\\right)\\right)\\right)^{2}}$"
      ],
      "text/plain": [
       "2*h*m_o**2*(pi*(2*epsilon_- + rho - 1) + (pi - 1)*(-2*epsilon_+ + rho + 1))*(-(pi*(2*epsilon_- + rho - 1) + (pi - 1)*(-2*epsilon_+ + rho + 1))*(h*(kappa - m_o**2)*(2*pi - 1)*(rho - 1)*(pi*(2*epsilon_- + rho - 1) + (pi - 1)*(-2*epsilon_+ + rho + 1)) + h*(kappa - m_o**2)*(pi*(2*epsilon_- + rho - 1) + (pi - 1)*(-2*epsilon_+ + rho + 1))**2 - (h - 1)*(pi*(rho - 1)*(2*epsilon_- + rho - 1) + pi*(4*epsilon_-*rho + (rho - 1)**2) - (pi - 1)*(rho - 1)*(-2*epsilon_+ + rho + 1) + (pi - 1)*(4*epsilon_+*rho - (rho + 1)**2))) + (h*(kappa - m_o**2)*(pi*(2*epsilon_- + rho - 1) + (pi - 1)*(-2*epsilon_+ + rho + 1))**2 - (h - 1)*(pi*(4*epsilon_-*rho + (rho - 1)**2) + (pi - 1)*(4*epsilon_+*rho - (rho + 1)**2)))*(pi*(2*epsilon_- + rho - 1) + (pi - 1)*(-2*epsilon_+ + rho + 1) + (2*pi - 1)*(rho - 1)))/((rho - 1)*(h*(kappa - m_o**2)*(pi*(2*epsilon_- + rho - 1) + (pi - 1)*(-2*epsilon_+ + rho + 1))**2 - (h - 1)*(pi*(4*epsilon_-*rho + (rho - 1)**2) + (pi - 1)*(4*epsilon_+*rho - (rho + 1)**2)))**2)"
      ]
     },
     "execution_count": 42,
     "metadata": {},
     "output_type": "execute_result"
    }
   ],
   "source": [
    "r = simplify(diff(f, rho))\n",
    "r"
   ]
  },
  {
   "cell_type": "code",
   "execution_count": 43,
   "metadata": {},
   "outputs": [
    {
     "name": "stdout",
     "output_type": "stream",
     "text": [
      "2 h m_{o}^{2} \\left(\\pi \\left(2 \\epsilon_{-} + \\rho - 1\\right) + \\left(\\pi - 1\\right) \\left(- 2 \\epsilon_{+} + \\rho + 1\\right)\\right) \\left(- \\left(\\pi \\left(2 \\epsilon_{-} + \\rho - 1\\right) + \\left(\\pi - 1\\right) \\left(- 2 \\epsilon_{+} + \\rho + 1\\right)\\right) \\left(h \\left(\\kappa - m_{o}^{2}\\right) \\left(2 \\pi - 1\\right) \\left(\\rho - 1\\right) \\left(\\pi \\left(2 \\epsilon_{-} + \\rho - 1\\right) + \\left(\\pi - 1\\right) \\left(- 2 \\epsilon_{+} + \\rho + 1\\right)\\right) + h \\left(\\kappa - m_{o}^{2}\\right) \\left(\\pi \\left(2 \\epsilon_{-} + \\rho - 1\\right) + \\left(\\pi - 1\\right) \\left(- 2 \\epsilon_{+} + \\rho + 1\\right)\\right)^{2} - \\left(h - 1\\right) \\left(\\pi \\left(\\rho - 1\\right) \\left(2 \\epsilon_{-} + \\rho - 1\\right) + \\pi \\left(4 \\epsilon_{-} \\rho + \\left(\\rho - 1\\right)^{2}\\right) - \\left(\\pi - 1\\right) \\left(\\rho - 1\\right) \\left(- 2 \\epsilon_{+} + \\rho + 1\\right) + \\left(\\pi - 1\\right) \\left(4 \\epsilon_{+} \\rho - \\left(\\rho + 1\\right)^{2}\\right)\\right)\\right) + \\left(h \\left(\\kappa - m_{o}^{2}\\right) \\left(\\pi \\left(2 \\epsilon_{-} + \\rho - 1\\right) + \\left(\\pi - 1\\right) \\left(- 2 \\epsilon_{+} + \\rho + 1\\right)\\right)^{2} - \\left(h - 1\\right) \\left(\\pi \\left(4 \\epsilon_{-} \\rho + \\left(\\rho - 1\\right)^{2}\\right) + \\left(\\pi - 1\\right) \\left(4 \\epsilon_{+} \\rho - \\left(\\rho + 1\\right)^{2}\\right)\\right)\\right) \\left(\\pi \\left(2 \\epsilon_{-} + \\rho - 1\\right) + \\left(\\pi - 1\\right) \\left(- 2 \\epsilon_{+} + \\rho + 1\\right) + \\left(2 \\pi - 1\\right) \\left(\\rho - 1\\right)\\right)\\right)\n"
     ]
    }
   ],
   "source": [
    "n, d = fraction(r)\n",
    "print(latex(n))"
   ]
  },
  {
   "cell_type": "code",
   "execution_count": 9,
   "metadata": {},
   "outputs": [
    {
     "data": {
      "text/plain": [
       "[1,\n",
       " (2*epsilon_+*pi - 2*epsilon_+ - 2*epsilon_-*pi + 1)/(2*pi - 1),\n",
       " (-epsilon_+**2*pi**2 + 2*epsilon_+**2*pi - epsilon_+**2 + epsilon_+*pi**2 - 2*epsilon_+*pi + epsilon_+ + epsilon_-**2*pi**2 - epsilon_-*pi**2)/(pi*(epsilon_+*pi - epsilon_+ + epsilon_-*pi - epsilon_- - pi + 1))]"
      ]
     },
     "execution_count": 9,
     "metadata": {},
     "output_type": "execute_result"
    }
   ],
   "source": [
    "res = solve(n, rho)\n",
    "res"
   ]
  },
  {
   "cell_type": "code",
   "execution_count": 10,
   "metadata": {},
   "outputs": [
    {
     "data": {
      "text/latex": [
       "$\\displaystyle 1$"
      ],
      "text/plain": [
       "1"
      ]
     },
     "execution_count": 10,
     "metadata": {},
     "output_type": "execute_result"
    }
   ],
   "source": [
    "res[0] # not possible since rho_+ \\neq 1"
   ]
  },
  {
   "cell_type": "code",
   "execution_count": 11,
   "metadata": {},
   "outputs": [
    {
     "data": {
      "text/latex": [
       "$\\displaystyle \\frac{2 \\epsilon_{+} \\pi - 2 \\epsilon_{+} - 2 \\epsilon_{-} \\pi + 1}{2 \\pi - 1}$"
      ],
      "text/plain": [
       "(2*epsilon_+*pi - 2*epsilon_+ - 2*epsilon_-*pi + 1)/(2*pi - 1)"
      ]
     },
     "execution_count": 11,
     "metadata": {},
     "output_type": "execute_result"
    }
   ],
   "source": [
    "res[1]"
   ]
  },
  {
   "cell_type": "code",
   "execution_count": 12,
   "metadata": {},
   "outputs": [
    {
     "data": {
      "text/latex": [
       "$\\displaystyle \\frac{- \\epsilon_{+}^{2} \\pi^{2} + 2 \\epsilon_{+}^{2} \\pi - \\epsilon_{+}^{2} + \\epsilon_{+} \\pi^{2} - 2 \\epsilon_{+} \\pi + \\epsilon_{+} + \\epsilon_{-}^{2} \\pi^{2} - \\epsilon_{-} \\pi^{2}}{\\pi \\left(\\epsilon_{+} \\pi - \\epsilon_{+} + \\epsilon_{-} \\pi - \\epsilon_{-} - \\pi + 1\\right)}$"
      ],
      "text/plain": [
       "(-epsilon_+**2*pi**2 + 2*epsilon_+**2*pi - epsilon_+**2 + epsilon_+*pi**2 - 2*epsilon_+*pi + epsilon_+ + epsilon_-**2*pi**2 - epsilon_-*pi**2)/(pi*(epsilon_+*pi - epsilon_+ + epsilon_-*pi - epsilon_- - pi + 1))"
      ]
     },
     "execution_count": 12,
     "metadata": {},
     "output_type": "execute_result"
    }
   ],
   "source": [
    "res[2]"
   ]
  },
  {
   "cell_type": "code",
   "execution_count": 17,
   "metadata": {},
   "outputs": [
    {
     "data": {
      "text/latex": [
       "$\\displaystyle \\frac{- \\epsilon_{+}^{2} \\pi^{2} + 2 \\epsilon_{+}^{2} \\pi - \\epsilon_{+}^{2} + \\epsilon_{+} \\pi^{2} - 2 \\epsilon_{+} \\pi + \\epsilon_{+} + \\epsilon_{-}^{2} \\pi^{2} - \\epsilon_{-} \\pi^{2}}{\\pi \\left(\\epsilon_{+} \\pi - \\epsilon_{+} + \\epsilon_{-} \\pi - \\epsilon_{-} - \\pi + 1\\right)}$"
      ],
      "text/plain": [
       "(-epsilon_+**2*pi**2 + 2*epsilon_+**2*pi - epsilon_+**2 + epsilon_+*pi**2 - 2*epsilon_+*pi + epsilon_+ + epsilon_-**2*pi**2 - epsilon_-*pi**2)/(pi*(epsilon_+*pi - epsilon_+ + epsilon_-*pi - epsilon_- - pi + 1))"
      ]
     },
     "execution_count": 17,
     "metadata": {},
     "output_type": "execute_result"
    }
   ],
   "source": [
    "simplify(res[2])"
   ]
  },
  {
   "cell_type": "markdown",
   "metadata": {},
   "source": [
    "### Conclusion:\n",
    "\n",
    "The optimal $\\rho_+$ that maximizes the Test Accuracy is:\n",
    "$$ \\rho_+^* = \\frac{\\pi^2 \\epsilon_-(\\epsilon_- - 1) + (1 - \\pi)^2 \\epsilon_+(1 - \\epsilon_+)}{\\pi(1 - \\pi)(1 - \\epsilon_+ - \\epsilon_-)} $$\n",
    "The worst $\\rho_+$ that minimizes the accuracy is:\n",
    "$$ \\bar \\rho_+ = \\frac{1 - 2\\pi\\varepsilon_- - 2 (1 - \\pi)\\varepsilon_+}{2 \\pi - 1} $$\n"
   ]
  },
  {
   "cell_type": "markdown",
   "metadata": {},
   "source": [
    "## Now fixing $\\rho_+ = 0$ and fiding optimal $\\rho_-$"
   ]
  },
  {
   "cell_type": "code",
   "execution_count": 23,
   "metadata": {},
   "outputs": [],
   "source": [
    "mo, pi, ep, em, rho, kappa, h = symbols('m_o pi epsilon_+ epsilon_- rho kappa h')"
   ]
  },
  {
   "cell_type": "code",
   "execution_count": 24,
   "metadata": {},
   "outputs": [],
   "source": [
    "lp = 1\n",
    "lm = (1 + rho) / (1 - rho)\n",
    "beta = 1 / (1 - rho)"
   ]
  },
  {
   "cell_type": "code",
   "execution_count": 25,
   "metadata": {},
   "outputs": [],
   "source": [
    "m = (pi * (lm - 2 * beta * em) + (1-pi) * (lp - 2 * beta * ep)) * mo"
   ]
  },
  {
   "cell_type": "code",
   "execution_count": 26,
   "metadata": {},
   "outputs": [
    {
     "data": {
      "text/latex": [
       "$\\displaystyle \\kappa \\left(\\pi \\left(- \\frac{2 \\epsilon_{-}}{1 - \\rho} + \\frac{\\rho + 1}{1 - \\rho}\\right) + \\left(1 - \\pi\\right) \\left(- \\frac{2 \\epsilon_{+}}{1 - \\rho} + 1\\right)\\right)^{2} + \\frac{\\left(1 - h\\right) \\left(\\pi \\left(\\frac{4 \\epsilon_{-} \\rho}{\\left(1 - \\rho\\right)^{2}} + \\frac{\\left(\\rho + 1\\right)^{2}}{\\left(1 - \\rho\\right)^{2}}\\right) + \\left(1 - \\pi\\right) \\left(- \\frac{4 \\epsilon_{+} \\rho}{\\left(1 - \\rho\\right)^{2}} + 1\\right)\\right)}{h}$"
      ],
      "text/plain": [
       "kappa*(pi*(-2*epsilon_-/(1 - rho) + (rho + 1)/(1 - rho)) + (1 - pi)*(-2*epsilon_+/(1 - rho) + 1))**2 + (1 - h)*(pi*(4*epsilon_-*rho/(1 - rho)**2 + (rho + 1)**2/(1 - rho)**2) + (1 - pi)*(-4*epsilon_+*rho/(1 - rho)**2 + 1))/h"
      ]
     },
     "execution_count": 26,
     "metadata": {},
     "output_type": "execute_result"
    }
   ],
   "source": [
    "nu = (pi * (lm - 2 * beta * em) + (1-pi) * (lp - 2 * beta * ep))**2 * kappa\n",
    "s = (1-h) * (pi * (4*beta**2 * em * rho + lm**2) + (1-pi) * (4*beta**2 * ep * (-rho) + lp**2 ) ) / h\n",
    "nu = nu + s\n",
    "nu"
   ]
  },
  {
   "cell_type": "code",
   "execution_count": 27,
   "metadata": {},
   "outputs": [
    {
     "data": {
      "text/latex": [
       "$\\displaystyle - \\frac{h m_{o}^{2} \\left(\\rho - 1\\right)^{2} \\left(\\pi \\left(- 2 \\epsilon_{-} + \\rho + 1\\right) + \\left(\\pi - 1\\right) \\left(2 \\epsilon_{+} + \\rho - 1\\right)\\right)^{2}}{- h \\left(\\kappa - m_{o}^{2}\\right) \\left(\\rho - 1\\right)^{2} \\left(\\pi \\left(2 \\epsilon_{-} - \\rho - 1\\right) - \\left(\\pi - 1\\right) \\left(2 \\epsilon_{+} + \\rho - 1\\right)\\right)^{2} + \\left(h - 1\\right) \\left(\\pi \\left(\\rho - 1\\right)^{2} \\cdot \\left(4 \\epsilon_{-} \\rho + \\left(\\rho + 1\\right)^{2}\\right) + \\left(\\pi - 1\\right) \\left(\\rho - 1\\right)^{2} \\cdot \\left(4 \\epsilon_{+} \\rho - \\left(\\rho - 1\\right)^{2}\\right)\\right)}$"
      ],
      "text/plain": [
       "-h*m_o**2*(rho - 1)**2*(pi*(-2*epsilon_- + rho + 1) + (pi - 1)*(2*epsilon_+ + rho - 1))**2/(-h*(kappa - m_o**2)*(rho - 1)**2*(pi*(2*epsilon_- - rho - 1) - (pi - 1)*(2*epsilon_+ + rho - 1))**2 + (h - 1)*(pi*(rho - 1)**2*(4*epsilon_-*rho + (rho + 1)**2) + (pi - 1)*(rho - 1)**2*(4*epsilon_+*rho - (rho - 1)**2)))"
      ]
     },
     "execution_count": 27,
     "metadata": {},
     "output_type": "execute_result"
    }
   ],
   "source": [
    "f =simplify(m**2 / (nu - m**2))\n",
    "f"
   ]
  },
  {
   "cell_type": "code",
   "execution_count": 28,
   "metadata": {},
   "outputs": [
    {
     "data": {
      "text/latex": [
       "$\\displaystyle \\frac{2 h m_{o}^{2} \\left(\\pi \\left(- 2 \\epsilon_{-} + \\rho + 1\\right) + \\left(\\pi - 1\\right) \\left(2 \\epsilon_{+} + \\rho - 1\\right)\\right) \\left(\\left(\\pi \\left(- 2 \\epsilon_{-} + \\rho + 1\\right) + \\left(\\pi - 1\\right) \\left(2 \\epsilon_{+} + \\rho - 1\\right)\\right) \\left(- h \\left(\\kappa - m_{o}^{2}\\right) \\left(2 \\pi - 1\\right) \\left(\\rho - 1\\right) \\left(\\pi \\left(- 2 \\epsilon_{-} + \\rho + 1\\right) + \\left(\\pi - 1\\right) \\left(2 \\epsilon_{+} + \\rho - 1\\right)\\right) - h \\left(\\kappa - m_{o}^{2}\\right) \\left(\\pi \\left(- 2 \\epsilon_{-} + \\rho + 1\\right) + \\left(\\pi - 1\\right) \\left(2 \\epsilon_{+} + \\rho - 1\\right)\\right)^{2} + \\left(h - 1\\right) \\left(\\pi \\left(\\rho - 1\\right) \\left(2 \\epsilon_{-} + \\rho + 1\\right) + \\pi \\left(4 \\epsilon_{-} \\rho + \\left(\\rho + 1\\right)^{2}\\right) + \\left(\\pi - 1\\right) \\left(\\rho - 1\\right) \\left(2 \\epsilon_{+} - \\rho + 1\\right) + \\left(\\pi - 1\\right) \\left(4 \\epsilon_{+} \\rho - \\left(\\rho - 1\\right)^{2}\\right)\\right)\\right) + \\left(h \\left(\\kappa - m_{o}^{2}\\right) \\left(\\pi \\left(- 2 \\epsilon_{-} + \\rho + 1\\right) + \\left(\\pi - 1\\right) \\left(2 \\epsilon_{+} + \\rho - 1\\right)\\right)^{2} - \\left(h - 1\\right) \\left(\\pi \\left(4 \\epsilon_{-} \\rho + \\left(\\rho + 1\\right)^{2}\\right) + \\left(\\pi - 1\\right) \\left(4 \\epsilon_{+} \\rho - \\left(\\rho - 1\\right)^{2}\\right)\\right)\\right) \\left(\\pi \\left(- 2 \\epsilon_{-} + \\rho + 1\\right) + \\left(\\pi - 1\\right) \\left(2 \\epsilon_{+} + \\rho - 1\\right) + \\left(2 \\pi - 1\\right) \\left(\\rho - 1\\right)\\right)\\right)}{\\left(\\rho - 1\\right) \\left(h \\left(\\kappa - m_{o}^{2}\\right) \\left(\\pi \\left(- 2 \\epsilon_{-} + \\rho + 1\\right) + \\left(\\pi - 1\\right) \\left(2 \\epsilon_{+} + \\rho - 1\\right)\\right)^{2} - \\left(h - 1\\right) \\left(\\pi \\left(4 \\epsilon_{-} \\rho + \\left(\\rho + 1\\right)^{2}\\right) + \\left(\\pi - 1\\right) \\left(4 \\epsilon_{+} \\rho - \\left(\\rho - 1\\right)^{2}\\right)\\right)\\right)^{2}}$"
      ],
      "text/plain": [
       "2*h*m_o**2*(pi*(-2*epsilon_- + rho + 1) + (pi - 1)*(2*epsilon_+ + rho - 1))*((pi*(-2*epsilon_- + rho + 1) + (pi - 1)*(2*epsilon_+ + rho - 1))*(-h*(kappa - m_o**2)*(2*pi - 1)*(rho - 1)*(pi*(-2*epsilon_- + rho + 1) + (pi - 1)*(2*epsilon_+ + rho - 1)) - h*(kappa - m_o**2)*(pi*(-2*epsilon_- + rho + 1) + (pi - 1)*(2*epsilon_+ + rho - 1))**2 + (h - 1)*(pi*(rho - 1)*(2*epsilon_- + rho + 1) + pi*(4*epsilon_-*rho + (rho + 1)**2) + (pi - 1)*(rho - 1)*(2*epsilon_+ - rho + 1) + (pi - 1)*(4*epsilon_+*rho - (rho - 1)**2))) + (h*(kappa - m_o**2)*(pi*(-2*epsilon_- + rho + 1) + (pi - 1)*(2*epsilon_+ + rho - 1))**2 - (h - 1)*(pi*(4*epsilon_-*rho + (rho + 1)**2) + (pi - 1)*(4*epsilon_+*rho - (rho - 1)**2)))*(pi*(-2*epsilon_- + rho + 1) + (pi - 1)*(2*epsilon_+ + rho - 1) + (2*pi - 1)*(rho - 1)))/((rho - 1)*(h*(kappa - m_o**2)*(pi*(-2*epsilon_- + rho + 1) + (pi - 1)*(2*epsilon_+ + rho - 1))**2 - (h - 1)*(pi*(4*epsilon_-*rho + (rho + 1)**2) + (pi - 1)*(4*epsilon_+*rho - (rho - 1)**2)))**2)"
      ]
     },
     "execution_count": 28,
     "metadata": {},
     "output_type": "execute_result"
    }
   ],
   "source": [
    "r = simplify(diff(f, rho))\n",
    "r"
   ]
  },
  {
   "cell_type": "code",
   "execution_count": 29,
   "metadata": {},
   "outputs": [],
   "source": [
    "n, d = fraction(r)\n",
    "res = solve(n, rho)"
   ]
  },
  {
   "cell_type": "code",
   "execution_count": 31,
   "metadata": {},
   "outputs": [
    {
     "data": {
      "text/latex": [
       "$\\displaystyle 1$"
      ],
      "text/plain": [
       "1"
      ]
     },
     "execution_count": 31,
     "metadata": {},
     "output_type": "execute_result"
    }
   ],
   "source": [
    "res[0]"
   ]
  },
  {
   "cell_type": "code",
   "execution_count": 32,
   "metadata": {},
   "outputs": [
    {
     "data": {
      "text/latex": [
       "$\\displaystyle \\frac{- 2 \\epsilon_{+} \\pi + 2 \\epsilon_{+} + 2 \\epsilon_{-} \\pi - 1}{2 \\pi - 1}$"
      ],
      "text/plain": [
       "(-2*epsilon_+*pi + 2*epsilon_+ + 2*epsilon_-*pi - 1)/(2*pi - 1)"
      ]
     },
     "execution_count": 32,
     "metadata": {},
     "output_type": "execute_result"
    }
   ],
   "source": [
    "res[1]"
   ]
  },
  {
   "cell_type": "code",
   "execution_count": 33,
   "metadata": {},
   "outputs": [
    {
     "data": {
      "text/latex": [
       "$\\displaystyle \\frac{\\epsilon_{+}^{2} \\pi^{2} - 2 \\epsilon_{+}^{2} \\pi + \\epsilon_{+}^{2} + \\epsilon_{+} \\pi^{2} - \\epsilon_{+} \\pi - \\epsilon_{-}^{2} \\pi^{2} - \\epsilon_{-} \\pi^{2} + \\epsilon_{-} \\pi}{\\epsilon_{+} \\pi^{2} - 2 \\epsilon_{+} \\pi + \\epsilon_{+} + \\epsilon_{-} \\pi^{2} + \\pi^{2} - \\pi}$"
      ],
      "text/plain": [
       "(epsilon_+**2*pi**2 - 2*epsilon_+**2*pi + epsilon_+**2 + epsilon_+*pi**2 - epsilon_+*pi - epsilon_-**2*pi**2 - epsilon_-*pi**2 + epsilon_-*pi)/(epsilon_+*pi**2 - 2*epsilon_+*pi + epsilon_+ + epsilon_-*pi**2 + pi**2 - pi)"
      ]
     },
     "execution_count": 33,
     "metadata": {},
     "output_type": "execute_result"
    }
   ],
   "source": [
    "res[2]"
   ]
  },
  {
   "cell_type": "markdown",
   "metadata": {},
   "source": [
    "Thus, if we set $\\rho_+ = 0$, the optimal $\\rho_- $ is actually the opposite of the optimal $\\rho_+$ that we found earlier!\n",
    "$$ \\rho_-^* = - \\frac{\\pi^2 \\epsilon_-(\\epsilon_- - 1) + (1 - \\pi)^2 \\epsilon_+(1 - \\epsilon_+)}{\\pi(1 - \\pi)(1 - \\epsilon_+ - \\epsilon_-)} $$"
   ]
  },
  {
   "cell_type": "markdown",
   "metadata": {},
   "source": [
    "## Low-dimension analysis\n",
    "Let us now consider a low dimensional regime, where: $$ h \\to 1$$\n"
   ]
  },
  {
   "cell_type": "code",
   "execution_count": 16,
   "metadata": {},
   "outputs": [],
   "source": [
    "mo, pi, ep, em, rho, kappa, h, delta, mu, gamma = symbols('m_o pi epsilon_+ epsilon_- rho kappa h delta \\|\\mu\\| gamma')"
   ]
  },
  {
   "cell_type": "code",
   "execution_count": 17,
   "metadata": {},
   "outputs": [],
   "source": [
    "h = 1\n",
    "lm = 1\n",
    "lp = (1 + rho) / (1 - rho)\n",
    "beta = 1 / (1 - rho)\n",
    "delta = 0"
   ]
  },
  {
   "cell_type": "code",
   "execution_count": 19,
   "metadata": {},
   "outputs": [
    {
     "data": {
      "text/latex": [
       "$\\displaystyle \\frac{\\|\\mu\\|^{2} \\left(\\pi \\left(- \\frac{2 \\epsilon_{-}}{1 - \\rho} + 1\\right) + \\left(1 - \\pi\\right) \\left(- \\frac{2 \\epsilon_{+}}{1 - \\rho} + \\frac{\\rho + 1}{1 - \\rho}\\right)\\right)}{\\|\\mu\\|^{2} + \\gamma + 1}$"
      ],
      "text/plain": [
       "\\|\\mu\\|**2*(pi*(-2*epsilon_-/(1 - rho) + 1) + (1 - pi)*(-2*epsilon_+/(1 - rho) + (rho + 1)/(1 - rho)))/(\\|\\mu\\|**2 + gamma + 1)"
      ]
     },
     "execution_count": 19,
     "metadata": {},
     "output_type": "execute_result"
    }
   ],
   "source": [
    "m = (pi * (lm - 2 * beta * em) + (1-pi) * (lp - 2 * beta * ep)) * mu**2 / (mu**2 + 1 + gamma * (1 + delta))\n",
    "m"
   ]
  },
  {
   "cell_type": "code",
   "execution_count": 20,
   "metadata": {},
   "outputs": [
    {
     "data": {
      "text/latex": [
       "$\\displaystyle \\frac{\\|\\mu\\|^{2} \\left(\\|\\mu\\|^{2} + 1\\right) \\left(\\pi \\left(- \\frac{2 \\epsilon_{-}}{1 - \\rho} + 1\\right) + \\left(1 - \\pi\\right) \\left(- \\frac{2 \\epsilon_{+}}{1 - \\rho} + \\frac{\\rho + 1}{1 - \\rho}\\right)\\right)^{2}}{\\left(\\|\\mu\\|^{2} + \\gamma + 1\\right)^{2}}$"
      ],
      "text/plain": [
       "\\|\\mu\\|**2*(\\|\\mu\\|**2 + 1)*(pi*(-2*epsilon_-/(1 - rho) + 1) + (1 - pi)*(-2*epsilon_+/(1 - rho) + (rho + 1)/(1 - rho)))**2/(\\|\\mu\\|**2 + gamma + 1)**2"
      ]
     },
     "execution_count": 20,
     "metadata": {},
     "output_type": "execute_result"
    }
   ],
   "source": [
    "nu = (pi * (lm - 2 * beta * em) + (1-pi) * (lp - 2 * beta * ep))**2 * mu**2 / (h * (mu**2 + 1 + gamma * (1 + delta)))\n",
    "nu = nu * ((mu**2 + 1) / (mu**2 + 1 + gamma*(1 + delta)))\n",
    "nu\n"
   ]
  },
  {
   "cell_type": "code",
   "execution_count": 21,
   "metadata": {},
   "outputs": [
    {
     "data": {
      "text/latex": [
       "$\\displaystyle \\|\\mu\\|^{2}$"
      ],
      "text/plain": [
       "\\|\\mu\\|**2"
      ]
     },
     "execution_count": 21,
     "metadata": {},
     "output_type": "execute_result"
    }
   ],
   "source": [
    "f =simplify(m**2 / (nu - m**2))\n",
    "f"
   ]
  },
  {
   "cell_type": "markdown",
   "metadata": {},
   "source": [
    "## High-dimensional analysis: Finding optimal $\\rho_+$ for any fixed $\\rho_-$"
   ]
  },
  {
   "cell_type": "code",
   "execution_count": 1,
   "metadata": {},
   "outputs": [],
   "source": [
    "from sympy import *\n",
    "mo, pi, ep, em, rhop, rhom, kappa, h = symbols('m_o pi epsilon_+ epsilon_- rho_+ rho_- kappa h')"
   ]
  },
  {
   "cell_type": "code",
   "execution_count": 2,
   "metadata": {},
   "outputs": [],
   "source": [
    "lm = (1 + rhom - rhop) / (1 - rhop - rhom)\n",
    "lp = (1 + rhop - rhom) / (1 - rhop - rhom)\n",
    "beta = 1 / (1 - rhop - rhom)"
   ]
  },
  {
   "cell_type": "code",
   "execution_count": 3,
   "metadata": {},
   "outputs": [
    {
     "data": {
      "text/latex": [
       "$\\displaystyle \\kappa \\left(\\pi \\left(- \\frac{2 \\epsilon_{-}}{- \\rho_{+} - \\rho_{-} + 1} + \\frac{- \\rho_{+} + \\rho_{-} + 1}{- \\rho_{+} - \\rho_{-} + 1}\\right) + \\left(1 - \\pi\\right) \\left(- \\frac{2 \\epsilon_{+}}{- \\rho_{+} - \\rho_{-} + 1} + \\frac{\\rho_{+} - \\rho_{-} + 1}{- \\rho_{+} - \\rho_{-} + 1}\\right)\\right)^{2} + \\frac{\\left(1 - h\\right) \\left(\\pi \\left(\\frac{4 \\epsilon_{-} \\left(\\rho_{+} - \\rho_{-}\\right)}{\\left(- \\rho_{+} - \\rho_{-} + 1\\right)^{2}} + \\frac{\\left(- \\rho_{+} + \\rho_{-} + 1\\right)^{2}}{\\left(- \\rho_{+} - \\rho_{-} + 1\\right)^{2}}\\right) + \\left(1 - \\pi\\right) \\left(\\frac{4 \\epsilon_{+} \\left(- \\rho_{+} + \\rho_{-}\\right)}{\\left(- \\rho_{+} - \\rho_{-} + 1\\right)^{2}} + \\frac{\\left(\\rho_{+} - \\rho_{-} + 1\\right)^{2}}{\\left(- \\rho_{+} - \\rho_{-} + 1\\right)^{2}}\\right)\\right)}{h}$"
      ],
      "text/plain": [
       "kappa*(pi*(-2*epsilon_-/(-rho_+ - rho_- + 1) + (-rho_+ + rho_- + 1)/(-rho_+ - rho_- + 1)) + (1 - pi)*(-2*epsilon_+/(-rho_+ - rho_- + 1) + (rho_+ - rho_- + 1)/(-rho_+ - rho_- + 1)))**2 + (1 - h)*(pi*(4*epsilon_-*(rho_+ - rho_-)/(-rho_+ - rho_- + 1)**2 + (-rho_+ + rho_- + 1)**2/(-rho_+ - rho_- + 1)**2) + (1 - pi)*(4*epsilon_+*(-rho_+ + rho_-)/(-rho_+ - rho_- + 1)**2 + (rho_+ - rho_- + 1)**2/(-rho_+ - rho_- + 1)**2))/h"
      ]
     },
     "execution_count": 3,
     "metadata": {},
     "output_type": "execute_result"
    }
   ],
   "source": [
    "m = (pi * (lm - 2 * beta * em) + (1-pi) * (lp - 2 * beta * ep)) * mo\n",
    "nu = (pi * (lm - 2 * beta * em) + (1-pi) * (lp - 2 * beta * ep))**2 * kappa\n",
    "s = (1-h) * (pi * (4*beta**2 * em * (rhop - rhom) + lm**2) + (1-pi) * (4*beta**2 * ep * (rhom -rhop) + lp**2 ) ) / h\n",
    "nu = nu + s\n",
    "nu"
   ]
  },
  {
   "cell_type": "code",
   "execution_count": 4,
   "metadata": {},
   "outputs": [
    {
     "data": {
      "text/latex": [
       "$\\displaystyle - \\frac{h m_{o}^{2} \\left(\\pi \\left(2 \\epsilon_{-} + \\rho_{+} - \\rho_{-} - 1\\right) - \\left(\\pi - 1\\right) \\left(2 \\epsilon_{+} - \\rho_{+} + \\rho_{-} - 1\\right)\\right)^{2} \\left(\\rho_{+} + \\rho_{-} - 1\\right)^{2}}{- h \\left(\\kappa - m_{o}^{2}\\right) \\left(\\pi \\left(2 \\epsilon_{-} + \\rho_{+} - \\rho_{-} - 1\\right) - \\left(\\pi - 1\\right) \\left(2 \\epsilon_{+} - \\rho_{+} + \\rho_{-} - 1\\right)\\right)^{2} \\left(\\rho_{+} + \\rho_{-} - 1\\right)^{2} + \\left(h - 1\\right) \\left(\\pi \\left(4 \\epsilon_{-} \\left(\\rho_{+} - \\rho_{-}\\right) + \\left(- \\rho_{+} + \\rho_{-} + 1\\right)^{2}\\right) + \\left(\\pi - 1\\right) \\left(4 \\epsilon_{+} \\left(\\rho_{+} - \\rho_{-}\\right) - \\left(\\rho_{+} - \\rho_{-} + 1\\right)^{2}\\right)\\right) \\left(\\rho_{+} + \\rho_{-} - 1\\right)^{2}}$"
      ],
      "text/plain": [
       "-h*m_o**2*(pi*(2*epsilon_- + rho_+ - rho_- - 1) - (pi - 1)*(2*epsilon_+ - rho_+ + rho_- - 1))**2*(rho_+ + rho_- - 1)**2/(-h*(kappa - m_o**2)*(pi*(2*epsilon_- + rho_+ - rho_- - 1) - (pi - 1)*(2*epsilon_+ - rho_+ + rho_- - 1))**2*(rho_+ + rho_- - 1)**2 + (h - 1)*(pi*(4*epsilon_-*(rho_+ - rho_-) + (-rho_+ + rho_- + 1)**2) + (pi - 1)*(4*epsilon_+*(rho_+ - rho_-) - (rho_+ - rho_- + 1)**2))*(rho_+ + rho_- - 1)**2)"
      ]
     },
     "execution_count": 4,
     "metadata": {},
     "output_type": "execute_result"
    }
   ],
   "source": [
    "f =simplify(m**2 / (nu - m**2))\n",
    "f"
   ]
  },
  {
   "cell_type": "code",
   "execution_count": 6,
   "metadata": {},
   "outputs": [
    {
     "name": "stdout",
     "output_type": "stream",
     "text": [
      "- h \\left(\\kappa - m_{o}^{2}\\right) \\left(\\pi \\left(2 \\epsilon_{-} + \\rho_{+} - \\rho_{-} - 1\\right) - \\left(\\pi - 1\\right) \\left(2 \\epsilon_{+} - \\rho_{+} + \\rho_{-} - 1\\right)\\right)^{2} \\left(\\rho_{+} + \\rho_{-} - 1\\right)^{2} + \\left(h - 1\\right) \\left(\\pi \\left(4 \\epsilon_{-} \\left(\\rho_{+} - \\rho_{-}\\right) + \\left(- \\rho_{+} + \\rho_{-} + 1\\right)^{2}\\right) + \\left(\\pi - 1\\right) \\left(4 \\epsilon_{+} \\left(\\rho_{+} - \\rho_{-}\\right) - \\left(\\rho_{+} - \\rho_{-} + 1\\right)^{2}\\right)\\right) \\left(\\rho_{+} + \\rho_{-} - 1\\right)^{2}\n"
     ]
    }
   ],
   "source": [
    "num, den = fraction(f)\n",
    "print(latex(den))"
   ]
  },
  {
   "cell_type": "code",
   "execution_count": 7,
   "metadata": {},
   "outputs": [
    {
     "name": "stdout",
     "output_type": "stream",
     "text": [
      "2 h m_{o}^{2} \\left(\\pi \\left(2 \\epsilon_{-} + \\rho_{+} - \\rho_{-} - 1\\right) - \\left(\\pi - 1\\right) \\left(2 \\epsilon_{+} - \\rho_{+} + \\rho_{-} - 1\\right)\\right) \\left(- \\left(\\pi \\left(2 \\epsilon_{-} + \\rho_{+} - \\rho_{-} - 1\\right) - \\left(\\pi - 1\\right) \\left(2 \\epsilon_{+} - \\rho_{+} + \\rho_{-} - 1\\right)\\right) \\left(h \\left(\\kappa - m_{o}^{2}\\right) \\left(2 \\pi - 1\\right) \\left(\\pi \\left(2 \\epsilon_{-} + \\rho_{+} - \\rho_{-} - 1\\right) - \\left(\\pi - 1\\right) \\left(2 \\epsilon_{+} - \\rho_{+} + \\rho_{-} - 1\\right)\\right) \\left(\\rho_{+} + \\rho_{-} - 1\\right) + h \\left(\\kappa - m_{o}^{2}\\right) \\left(\\pi \\left(2 \\epsilon_{-} + \\rho_{+} - \\rho_{-} - 1\\right) - \\left(\\pi - 1\\right) \\left(2 \\epsilon_{+} - \\rho_{+} + \\rho_{-} - 1\\right)\\right)^{2} - \\left(h - 1\\right) \\left(\\pi \\left(4 \\epsilon_{-} \\left(\\rho_{+} - \\rho_{-}\\right) + \\left(- \\rho_{+} + \\rho_{-} + 1\\right)^{2}\\right) + \\left(\\pi - 1\\right) \\left(4 \\epsilon_{+} \\left(\\rho_{+} - \\rho_{-}\\right) - \\left(\\rho_{+} - \\rho_{-} + 1\\right)^{2}\\right)\\right) - \\left(h - 1\\right) \\left(\\pi \\left(2 \\epsilon_{-} + \\rho_{+} - \\rho_{-} - 1\\right) + \\left(\\pi - 1\\right) \\left(2 \\epsilon_{+} - \\rho_{+} + \\rho_{-} - 1\\right)\\right) \\left(\\rho_{+} + \\rho_{-} - 1\\right)\\right) + \\left(h \\left(\\kappa - m_{o}^{2}\\right) \\left(\\pi \\left(2 \\epsilon_{-} + \\rho_{+} - \\rho_{-} - 1\\right) - \\left(\\pi - 1\\right) \\left(2 \\epsilon_{+} - \\rho_{+} + \\rho_{-} - 1\\right)\\right)^{2} - \\left(h - 1\\right) \\left(\\pi \\left(4 \\epsilon_{-} \\left(\\rho_{+} - \\rho_{-}\\right) + \\left(- \\rho_{+} + \\rho_{-} + 1\\right)^{2}\\right) + \\left(\\pi - 1\\right) \\left(4 \\epsilon_{+} \\left(\\rho_{+} - \\rho_{-}\\right) - \\left(\\rho_{+} - \\rho_{-} + 1\\right)^{2}\\right)\\right)\\right) \\left(\\pi \\left(2 \\epsilon_{-} + \\rho_{+} - \\rho_{-} - 1\\right) - \\left(\\pi - 1\\right) \\left(2 \\epsilon_{+} - \\rho_{+} + \\rho_{-} - 1\\right) + \\left(2 \\pi - 1\\right) \\left(\\rho_{+} + \\rho_{-} - 1\\right)\\right)\\right)\n"
     ]
    }
   ],
   "source": [
    "r = simplify(diff(f, rhop))\n",
    "n, d = fraction(r)\n",
    "print(latex(n))"
   ]
  },
  {
   "cell_type": "code",
   "execution_count": 8,
   "metadata": {},
   "outputs": [
    {
     "data": {
      "text/plain": [
       "[(2*epsilon_+*pi - 2*epsilon_+ - 2*epsilon_-*pi + 2*pi*rho_- - rho_- + 1)/(2*pi - 1),\n",
       " (-epsilon_+**2*pi**2 + 2*epsilon_+**2*pi - epsilon_+**2 + epsilon_+*pi**2*rho_- + epsilon_+*pi**2 - epsilon_+*pi*rho_- - 2*epsilon_+*pi + epsilon_+ + epsilon_-**2*pi**2 + epsilon_-*pi**2*rho_- - epsilon_-*pi**2 - epsilon_-*pi*rho_- - pi**2*rho_- + pi*rho_-)/(pi*(epsilon_+*pi - epsilon_+ + epsilon_-*pi - epsilon_- - pi + 1)),\n",
       " 1 - rho_-]"
      ]
     },
     "execution_count": 8,
     "metadata": {},
     "output_type": "execute_result"
    }
   ],
   "source": [
    "res = solve(n, rhop)\n",
    "res"
   ]
  },
  {
   "cell_type": "code",
   "execution_count": 9,
   "metadata": {},
   "outputs": [
    {
     "data": {
      "text/latex": [
       "$\\displaystyle \\frac{2 \\epsilon_{+} \\pi - 2 \\epsilon_{+} - 2 \\epsilon_{-} \\pi + 2 \\pi \\rho_{-} - \\rho_{-} + 1}{2 \\pi - 1}$"
      ],
      "text/plain": [
       "(2*epsilon_+*pi - 2*epsilon_+ - 2*epsilon_-*pi + 2*pi*rho_- - rho_- + 1)/(2*pi - 1)"
      ]
     },
     "execution_count": 9,
     "metadata": {},
     "output_type": "execute_result"
    }
   ],
   "source": [
    "res[0]"
   ]
  },
  {
   "cell_type": "code",
   "execution_count": 10,
   "metadata": {},
   "outputs": [
    {
     "data": {
      "text/latex": [
       "$\\displaystyle \\frac{- \\epsilon_{+}^{2} \\pi^{2} + 2 \\epsilon_{+}^{2} \\pi - \\epsilon_{+}^{2} + \\epsilon_{+} \\pi^{2} \\rho_{-} + \\epsilon_{+} \\pi^{2} - \\epsilon_{+} \\pi \\rho_{-} - 2 \\epsilon_{+} \\pi + \\epsilon_{+} + \\epsilon_{-}^{2} \\pi^{2} + \\epsilon_{-} \\pi^{2} \\rho_{-} - \\epsilon_{-} \\pi^{2} - \\epsilon_{-} \\pi \\rho_{-} - \\pi^{2} \\rho_{-} + \\pi \\rho_{-}}{\\pi \\left(\\epsilon_{+} \\pi - \\epsilon_{+} + \\epsilon_{-} \\pi - \\epsilon_{-} - \\pi + 1\\right)}$"
      ],
      "text/plain": [
       "(-epsilon_+**2*pi**2 + 2*epsilon_+**2*pi - epsilon_+**2 + epsilon_+*pi**2*rho_- + epsilon_+*pi**2 - epsilon_+*pi*rho_- - 2*epsilon_+*pi + epsilon_+ + epsilon_-**2*pi**2 + epsilon_-*pi**2*rho_- - epsilon_-*pi**2 - epsilon_-*pi*rho_- - pi**2*rho_- + pi*rho_-)/(pi*(epsilon_+*pi - epsilon_+ + epsilon_-*pi - epsilon_- - pi + 1))"
      ]
     },
     "execution_count": 10,
     "metadata": {},
     "output_type": "execute_result"
    }
   ],
   "source": [
    "res[1]"
   ]
  },
  {
   "cell_type": "markdown",
   "metadata": {},
   "source": [
    "### Conclusion:\n",
    "\n",
    "The optimal $\\rho_+$ that maximizes the Test Accuracy is:\n",
    "$$ \\rho_+^* = \\frac{\\pi^2 \\epsilon_-(\\epsilon_- - 1) + (1 - \\pi)^2 \\epsilon_+(1 - \\epsilon_+)}{\\pi(1 - \\pi)(1 - \\epsilon_+ - \\epsilon_-)} + \\rho_-$$\n",
    "The worst $\\rho_+$ that minimizes the accuracy is:\n",
    "$$ \\bar \\rho_+ = \\frac{1 - 2\\pi\\varepsilon_- - 2 (1 - \\pi)\\varepsilon_+}{2 \\pi - 1} + \\rho_- $$"
   ]
  }
 ],
 "metadata": {
  "kernelspec": {
   "display_name": ".venv",
   "language": "python",
   "name": "python3"
  },
  "language_info": {
   "codemirror_mode": {
    "name": "ipython",
    "version": 3
   },
   "file_extension": ".py",
   "mimetype": "text/x-python",
   "name": "python",
   "nbconvert_exporter": "python",
   "pygments_lexer": "ipython3",
   "version": "3.9.6"
  }
 },
 "nbformat": 4,
 "nbformat_minor": 2
}
